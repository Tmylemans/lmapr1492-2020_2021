{
 "cells": [
  {
   "cell_type": "code",
   "execution_count": 11,
   "metadata": {},
   "outputs": [
    {
     "name": "stdout",
     "output_type": "stream",
     "text": [
      "Structure : \n",
      " Full Formula (Sn1 S2)\n",
      "Reduced Formula: SnS2\n",
      "abc   :   3.699920   3.699920   6.977959\n",
      "angles:  90.000000  90.000000 120.000004\n",
      "Sites (3)\n",
      "  #  SP           a         b         c    magmom\n",
      "---  ----  --------  --------  --------  --------\n",
      "  0  Sn    0         0         0                0\n",
      "  1  S     0.333333  0.666667  0.211787        -0\n",
      "  2  S     0.666667  0.333333  0.788213        -0 \n",
      "\n",
      "coordonnées des vecteurs du réseau direct: \n",
      " 3.512462 0.000000 0.000000\n",
      "-1.756231 3.041881 0.000000\n",
      "0.000000 0.000000 19.501696 \n",
      "\n",
      "normes des vecteurs du réseau direct (a,b et c): \n",
      " (3.51246189, 3.5124618899999995, 19.50169647) \n",
      "\n",
      "coordonnées des vecteurs du réseau réciproque: \n",
      " 1.788827 1.032780 0.000000\n",
      "0.000000 2.065559 0.000000\n",
      "-0.000000 -0.000000 0.322187 \n",
      "\n",
      "normes des vecteurs du réseau réciproque (a*,b* et c*): \n",
      " (2.0655590534924984, 2.065559053492498, 0.3221866013987647) \n",
      "\n",
      "Type de maille du matériau:\n",
      " hexagonal \n",
      "\n",
      "Type de système cristallin:\n",
      " trigonal \n",
      "\n",
      "Groupe ponctuel: \n",
      " P-3m1 \n",
      "\n"
     ]
    }
   ],
   "source": [
    "from pymatgen.symmetry.analyzer import SpacegroupAnalyzer\n",
    "from pymatgen.ext.matproj import MPRester\n",
    "from pymatgen.core.lattice import Lattice\n",
    "import pymatgen.symmetry.analyzer as span\n",
    "with MPRester(\"z18b57ZwfPDtXJVD\") as m:\n",
    "              \n",
    "    # Structure du matériau\n",
    "    structure = m.get_structure_by_material_id(\"mp-1170\")\n",
    "    print(\"Structure : \\n\",structure , \"\\n\")\n",
    "    \n",
    "    #Création du lattice du structure hexagonal pour affiché les vecteurs du réseau de base et du réseau réciproque\n",
    "    lat=Lattice.hexagonal(3.51246189,19.50169647)\n",
    "    \n",
    "    # Coordonnées des vecteurs de base du réseau direct (a,b et c)\n",
    "    print(\"coordonnées des vecteurs du réseau direct: \\n\",lat, \"\\n\")\n",
    "    \n",
    "    # Normes des vecteurs de base du réseau direct (a,b et c)\n",
    "    dir_vect=lat.lengths\n",
    "    print(\"normes des vecteurs du réseau direct (a,b et c): \\n\",dir_vect, \"\\n\")\n",
    "    \n",
    "    # Coordonnées des vecteurs de base du réseau réciproque (a*,b* et c*)\n",
    "    rec_lat= lat.reciprocal_lattice\n",
    "    print(\"coordonnées des vecteurs du réseau réciproque: \\n\",rec_lat, \"\\n\")\n",
    "    \n",
    "    # Normes des vecteurs de base du réseau réciproque (a*,b* et c*)\n",
    "    rec_vect= rec_lat.lengths\n",
    "    print(\"normes des vecteurs du réseau réciproque (a*,b* et c*): \\n\",rec_vect, \"\\n\")\n",
    "    \n",
    "    # Variable pour afficher le type de maille, le système cristallin et le groupe ponctuel\n",
    "    stru=span.SpacegroupAnalyzer(structure)\n",
    "    \n",
    "     # Type de maille du matériau\n",
    "    print(\"Type de maille du matériau:\\n\",stru.get_lattice_type(),\"\\n\")\n",
    "    \n",
    "    # Type de système cristallin du matériau\\n\",\n",
    "    print(\"Type de système cristallin:\\n\",stru.get_crystal_system(), \"\\n\")\n",
    "    \n",
    "    # Groupe ponctuel du matériau\n",
    "    print(\"Groupe ponctuel: \\n\",stru.get_space_group_symbol(), \"\\n\")"
   ]
  }
 ],
 "metadata": {
  "kernelspec": {
   "display_name": "Python 3",
   "language": "python",
   "name": "python3"
  },
  "language_info": {
   "codemirror_mode": {
    "name": "ipython",
    "version": 3
   },
   "file_extension": ".py",
   "mimetype": "text/x-python",
   "name": "python",
   "nbconvert_exporter": "python",
   "pygments_lexer": "ipython3",
   "version": "3.7.3"
  }
 },
 "nbformat": 4,
 "nbformat_minor": 2
}
