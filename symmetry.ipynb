{
 "cells": [
  {
   "cell_type": "code",
   "execution_count": 22,
   "metadata": {
    "scrolled": true
   },
   "outputs": [
    {
     "data": {
      "application/vnd.jupyter.widget-view+json": {
       "model_id": "5beabad489d74bc5b7fb4c2f37e2485b",
       "version_major": 2,
       "version_minor": 0
      },
      "text/plain": [
       "JsmolView(layout=Layout(align_self='stretch', height='400px'))"
      ]
     },
     "metadata": {},
     "output_type": "display_data"
    },
    {
     "name": "stdout",
     "output_type": "stream",
     "text": [
      "Remarque : toutes les coordonnees des atomes qui sont donnees dans ce document sont les coordonnees reduites des atomes\n"
     ]
    }
   ],
   "source": [
    "from pymatgen.symmetry.analyzer import SpacegroupAnalyzer\n",
    "from jupyter_jsmol.pymatgen import quick_view\n",
    "from pymatgen.ext.matproj import MPRester\n",
    "from pymatgen.core.operations import SymmOp\n",
    "\n",
    "with MPRester(\"z18b57ZwfPDtXJVD\") as m:\n",
    "\n",
    "    # Structure for material id\n",
    "    structure = m.get_structure_by_material_id(\"mp-1170\")\n",
    "    \n",
    "view = quick_view(structure)\n",
    "display(view)\n",
    "print(\"Remarque : toutes les coordonnees des atomes qui sont donnees dans ce document sont les coordonnees reduites des atomes\")"
   ]
  },
  {
   "cell_type": "code",
   "execution_count": 24,
   "metadata": {},
   "outputs": [
    {
     "data": {
      "application/vnd.jupyter.widget-view+json": {
       "model_id": "b15748410361447685afec89599f4b5d",
       "version_major": 2,
       "version_minor": 0
      },
      "text/plain": [
       "JsmolView(layout=Layout(align_self='stretch', height='400px'))"
      ]
     },
     "metadata": {},
     "output_type": "display_data"
    },
    {
     "name": "stdout",
     "output_type": "stream",
     "text": [
      "Symetrie 1 : inversion par rapport au point situe en (0.00, 0.00, 0.00).\n",
      "La matrice de rotation est la suivante :\n",
      "[[-1.  0.  0.]\n",
      " [ 0. -1.  0.]\n",
      " [ 0.  0. -1.]]\n",
      "L'opération de symétrie appliquée à l'atome Sn situé en (1.00, 1.00, 1.00) renvoie l'atome Sn situé en \n",
      "[-1. -1. -1.]\n",
      "Ce qui correspond à l'atome situé en  (0.00, 0.00, 0.00) dans la maille de départ.\n"
     ]
    }
   ],
   "source": [
    "view1=quick_view(structure)\n",
    "display(view1)\n",
    "view1.script(\"draw symop 2 {atomno=3}\")\n",
    "sym1 = SymmOp.from_xyz_string('-x,-y,-z')\n",
    "sym1_op = sym1.operate([1.00, 1.00, 1.00])\n",
    "\n",
    "print(\"Symetrie 1 : inversion par rapport au point situe en (0.00, 0.00, 0.00).\" + \"\\n\" + \"La matrice de rotation est la suivante :\")\n",
    "print(sym1.rotation_matrix)\n",
    "print(\"L'opération de symétrie appliquée à l'atome Sn situé en (1.00, 1.00, 1.00) renvoie l'atome Sn situé en \")\n",
    "print(sym1_op)\n",
    "print(\"Ce qui correspond à l'atome situé en  (0.00, 0.00, 0.00) dans la maille de départ.\")"
   ]
  },
  {
   "cell_type": "code",
   "execution_count": 26,
   "metadata": {},
   "outputs": [
    {
     "data": {
      "application/vnd.jupyter.widget-view+json": {
       "model_id": "f2396ec0b818426b9e171b97245fbbcb",
       "version_major": 2,
       "version_minor": 0
      },
      "text/plain": [
       "JsmolView(layout=Layout(align_self='stretch', height='400px'))"
      ]
     },
     "metadata": {},
     "output_type": "display_data"
    },
    {
     "name": "stdout",
     "output_type": "stream",
     "text": [
      "Symetrie 2 : rotation d'ordre 2 autour de l'axe (1 1 0).\n",
      "La matrice de rotation est la suivante :\n",
      "[[ 0.  1.  0.]\n",
      " [ 1.  0.  0.]\n",
      " [ 0.  0. -1.]]\n",
      "L'opération de symétrie appliquée à l'atome S situé en (0.6667, 0.3333, 0.7882) renvoie l'atome S situé en \n",
      "[ 0.3333  0.6667 -0.7882]\n",
      "Ce qui correspond à l'atome situé en  (0.3333, 0.6667,0.2118) dans la maille de départ.\n"
     ]
    }
   ],
   "source": [
    "view2=quick_view(structure)\n",
    "display(view2)\n",
    "view2.script(\"draw symop 7 {atomno=4}\")\n",
    "sym2 = SymmOp.from_xyz_string('y,x,-z')\n",
    "sym2_op = sym2.operate([0.6667, 0.3333, 0.7882])\n",
    "\n",
    "print(\"Symetrie 2 : rotation d'ordre 2 autour de l'axe (1 1 0) passant par le point (0.00, 0.00, 0.00).\" + \"\\n\" + \"La matrice de rotation est la suivante :\")\n",
    "print(sym2.rotation_matrix)\n",
    "print(\"L'opération de symétrie appliquée à l'atome S situé en (0.6667, 0.3333, 0.7882) renvoie l'atome S situé en \")\n",
    "print(sym2_op)\n",
    "print(\"Ce qui correspond à l'atome situé en  (0.3333, 0.6667,0.2118) dans la maille de départ.\")"
   ]
  },
  {
   "cell_type": "code",
   "execution_count": 28,
   "metadata": {},
   "outputs": [
    {
     "data": {
      "application/vnd.jupyter.widget-view+json": {
       "model_id": "2ad98ccbf7d9467e8ffcba10680eb50e",
       "version_major": 2,
       "version_minor": 0
      },
      "text/plain": [
       "JsmolView(layout=Layout(align_self='stretch', height='400px'))"
      ]
     },
     "metadata": {},
     "output_type": "display_data"
    },
    {
     "name": "stdout",
     "output_type": "stream",
     "text": [
      "Symetrie 3 : rotation d'ordre 3 autour de l'axe (0 1 0) passant par l'atome situé en (0.00, 0.00, 0.00) '.\n",
      "La matrice de rotation est la suivante :\n",
      "[[ 0. -1.  0.]\n",
      " [ 1. -1.  0.]\n",
      " [ 0.  0.  1.]]\n",
      "L'opération de symétrie appliquée à l'atome S situé en (0.3333, 0.6667,0.2118) renvoie l'atome S situé en \n",
      "[-0.6667 -0.3334  0.2118]\n",
      "Ce qui correspond au même atome que l'atome de départ.\n"
     ]
    }
   ],
   "source": [
    "view3=quick_view(structure)\n",
    "display(view3)\n",
    "view3.script(\"draw symop 3 {atomno=2}\")\n",
    "sym3 = SymmOp.from_xyz_string('-y,x-y,z')\n",
    "sym3_op = sym3.operate([0.3333, 0.6667,0.2118])\n",
    "\n",
    "print(\"Symetrie 3 : rotation d'ordre 3 autour de l'axe (0 1 0) passant par l'atome situé en (0.00, 0.00, 0.00) '.\" + \"\\n\" + \"La matrice de rotation est la suivante :\")\n",
    "print(sym3.rotation_matrix)\n",
    "print(\"L'opération de symétrie appliquée à l'atome S situé en (0.3333, 0.6667,0.2118) renvoie l'atome S situé en \")\n",
    "print(sym3_op)\n",
    "print(\"Ce qui correspond au même atome que l'atome de départ.\")"
   ]
  }
 ],
 "metadata": {
  "kernelspec": {
   "display_name": "Python 3",
   "language": "python",
   "name": "python3"
  },
  "language_info": {
   "codemirror_mode": {
    "name": "ipython",
    "version": 3
   },
   "file_extension": ".py",
   "mimetype": "text/x-python",
   "name": "python",
   "nbconvert_exporter": "python",
   "pygments_lexer": "ipython3",
   "version": "3.7.3"
  }
 },
 "nbformat": 4,
 "nbformat_minor": 2
}
